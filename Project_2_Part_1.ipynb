{
  "nbformat": 4,
  "nbformat_minor": 0,
  "metadata": {
    "colab": {
      "provenance": [],
      "authorship_tag": "ABX9TyNHFY7B4Uh4g5W6npSKhO0C",
      "include_colab_link": true
    },
    "kernelspec": {
      "name": "python3",
      "display_name": "Python 3"
    },
    "language_info": {
      "name": "python"
    }
  },
  "cells": [
    {
      "cell_type": "markdown",
      "metadata": {
        "id": "view-in-github",
        "colab_type": "text"
      },
      "source": [
        "<a href=\"https://colab.research.google.com/github/jamesbelk0/classification_model/blob/main/Project_2_Part_1.ipynb\" target=\"_parent\"><img src=\"https://colab.research.google.com/assets/colab-badge.svg\" alt=\"Open In Colab\"/></a>"
      ]
    },
    {
      "cell_type": "markdown",
      "source": [
        "# Project 1 - Part 1\n",
        "* James Belk\n",
        "* 02-09-2023"
      ],
      "metadata": {
        "id": "1Y7m0l8EBBef"
      }
    },
    {
      "cell_type": "code",
      "source": [
        "import pandas as pd\n",
        "import numpy as np"
      ],
      "metadata": {
        "id": "E6fyJrqNDu_6"
      },
      "execution_count": null,
      "outputs": []
    },
    {
      "cell_type": "markdown",
      "source": [
        "# First Choice: Metabolic Syndrome Prediction"
      ],
      "metadata": {
        "id": "bHeZEjHnBvdE"
      }
    },
    {
      "cell_type": "markdown",
      "source": [
        "## Source of Data\n",
        "\n",
        "Below is the location of the dataset.\n",
        "\n",
        "* https://data.world/informatics-edu/metabolic-syndrome-prediction"
      ],
      "metadata": {
        "id": "PpuC2FYVBGaV"
      }
    },
    {
      "cell_type": "code",
      "source": [
        "from google.colab import drive\n",
        "drive.mount('/content/drive')"
      ],
      "metadata": {
        "colab": {
          "base_uri": "https://localhost:8080/"
        },
        "id": "Zf0nK3BoDSKE",
        "outputId": "7c9556de-9ade-4ba5-f5ad-6aa0a315dc69"
      },
      "execution_count": null,
      "outputs": [
        {
          "output_type": "stream",
          "name": "stdout",
          "text": [
            "Drive already mounted at /content/drive; to attempt to forcibly remount, call drive.mount(\"/content/drive\", force_remount=True).\n"
          ]
        }
      ]
    },
    {
      "cell_type": "code",
      "source": [
        "filename = '/content/metabolic_syndrome.csv'\n",
        "\n",
        "df = pd.read_csv(filename)\n",
        "df.head()"
      ],
      "metadata": {
        "colab": {
          "base_uri": "https://localhost:8080/",
          "height": 270
        },
        "id": "mTeBzq7MCm5Y",
        "outputId": "2cf17003-b7d9-449b-8524-f6b702bfa22a"
      },
      "execution_count": 10,
      "outputs": [
        {
          "output_type": "execute_result",
          "data": {
            "text/plain": [
              "    seqn  age     sex  marital  income   race  waistcirc   bmi  albuminuria  \\\n",
              "0  62161   22    Male   Single  8200.0  White       81.0  23.3            0   \n",
              "1  62164   44  Female  Married  4500.0  White       80.1  23.2            0   \n",
              "2  62169   21    Male   Single   800.0  Asian       69.6  20.1            0   \n",
              "3  62172   43  Female   Single  2000.0  Black      120.4  33.3            0   \n",
              "4  62177   51    Male  Married     NaN  Asian       81.1  20.1            0   \n",
              "\n",
              "   uralbcr  uricacid  bloodglucose  hdl  triglycerides metabolicsyndrome  \n",
              "0     3.88       4.9            92   41             84         No MetSyn  \n",
              "1     8.55       4.5            82   28             56         No MetSyn  \n",
              "2     5.07       5.4           107   43             78         No MetSyn  \n",
              "3     5.22       5.0           104   73            141         No MetSyn  \n",
              "4     8.13       5.0            95   43            126         No MetSyn  "
            ],
            "text/html": [
              "\n",
              "  <div id=\"df-18da5127-d6f8-4bf5-83d5-e38d63888607\">\n",
              "    <div class=\"colab-df-container\">\n",
              "      <div>\n",
              "<style scoped>\n",
              "    .dataframe tbody tr th:only-of-type {\n",
              "        vertical-align: middle;\n",
              "    }\n",
              "\n",
              "    .dataframe tbody tr th {\n",
              "        vertical-align: top;\n",
              "    }\n",
              "\n",
              "    .dataframe thead th {\n",
              "        text-align: right;\n",
              "    }\n",
              "</style>\n",
              "<table border=\"1\" class=\"dataframe\">\n",
              "  <thead>\n",
              "    <tr style=\"text-align: right;\">\n",
              "      <th></th>\n",
              "      <th>seqn</th>\n",
              "      <th>age</th>\n",
              "      <th>sex</th>\n",
              "      <th>marital</th>\n",
              "      <th>income</th>\n",
              "      <th>race</th>\n",
              "      <th>waistcirc</th>\n",
              "      <th>bmi</th>\n",
              "      <th>albuminuria</th>\n",
              "      <th>uralbcr</th>\n",
              "      <th>uricacid</th>\n",
              "      <th>bloodglucose</th>\n",
              "      <th>hdl</th>\n",
              "      <th>triglycerides</th>\n",
              "      <th>metabolicsyndrome</th>\n",
              "    </tr>\n",
              "  </thead>\n",
              "  <tbody>\n",
              "    <tr>\n",
              "      <th>0</th>\n",
              "      <td>62161</td>\n",
              "      <td>22</td>\n",
              "      <td>Male</td>\n",
              "      <td>Single</td>\n",
              "      <td>8200.0</td>\n",
              "      <td>White</td>\n",
              "      <td>81.0</td>\n",
              "      <td>23.3</td>\n",
              "      <td>0</td>\n",
              "      <td>3.88</td>\n",
              "      <td>4.9</td>\n",
              "      <td>92</td>\n",
              "      <td>41</td>\n",
              "      <td>84</td>\n",
              "      <td>No MetSyn</td>\n",
              "    </tr>\n",
              "    <tr>\n",
              "      <th>1</th>\n",
              "      <td>62164</td>\n",
              "      <td>44</td>\n",
              "      <td>Female</td>\n",
              "      <td>Married</td>\n",
              "      <td>4500.0</td>\n",
              "      <td>White</td>\n",
              "      <td>80.1</td>\n",
              "      <td>23.2</td>\n",
              "      <td>0</td>\n",
              "      <td>8.55</td>\n",
              "      <td>4.5</td>\n",
              "      <td>82</td>\n",
              "      <td>28</td>\n",
              "      <td>56</td>\n",
              "      <td>No MetSyn</td>\n",
              "    </tr>\n",
              "    <tr>\n",
              "      <th>2</th>\n",
              "      <td>62169</td>\n",
              "      <td>21</td>\n",
              "      <td>Male</td>\n",
              "      <td>Single</td>\n",
              "      <td>800.0</td>\n",
              "      <td>Asian</td>\n",
              "      <td>69.6</td>\n",
              "      <td>20.1</td>\n",
              "      <td>0</td>\n",
              "      <td>5.07</td>\n",
              "      <td>5.4</td>\n",
              "      <td>107</td>\n",
              "      <td>43</td>\n",
              "      <td>78</td>\n",
              "      <td>No MetSyn</td>\n",
              "    </tr>\n",
              "    <tr>\n",
              "      <th>3</th>\n",
              "      <td>62172</td>\n",
              "      <td>43</td>\n",
              "      <td>Female</td>\n",
              "      <td>Single</td>\n",
              "      <td>2000.0</td>\n",
              "      <td>Black</td>\n",
              "      <td>120.4</td>\n",
              "      <td>33.3</td>\n",
              "      <td>0</td>\n",
              "      <td>5.22</td>\n",
              "      <td>5.0</td>\n",
              "      <td>104</td>\n",
              "      <td>73</td>\n",
              "      <td>141</td>\n",
              "      <td>No MetSyn</td>\n",
              "    </tr>\n",
              "    <tr>\n",
              "      <th>4</th>\n",
              "      <td>62177</td>\n",
              "      <td>51</td>\n",
              "      <td>Male</td>\n",
              "      <td>Married</td>\n",
              "      <td>NaN</td>\n",
              "      <td>Asian</td>\n",
              "      <td>81.1</td>\n",
              "      <td>20.1</td>\n",
              "      <td>0</td>\n",
              "      <td>8.13</td>\n",
              "      <td>5.0</td>\n",
              "      <td>95</td>\n",
              "      <td>43</td>\n",
              "      <td>126</td>\n",
              "      <td>No MetSyn</td>\n",
              "    </tr>\n",
              "  </tbody>\n",
              "</table>\n",
              "</div>\n",
              "      <button class=\"colab-df-convert\" onclick=\"convertToInteractive('df-18da5127-d6f8-4bf5-83d5-e38d63888607')\"\n",
              "              title=\"Convert this dataframe to an interactive table.\"\n",
              "              style=\"display:none;\">\n",
              "        \n",
              "  <svg xmlns=\"http://www.w3.org/2000/svg\" height=\"24px\"viewBox=\"0 0 24 24\"\n",
              "       width=\"24px\">\n",
              "    <path d=\"M0 0h24v24H0V0z\" fill=\"none\"/>\n",
              "    <path d=\"M18.56 5.44l.94 2.06.94-2.06 2.06-.94-2.06-.94-.94-2.06-.94 2.06-2.06.94zm-11 1L8.5 8.5l.94-2.06 2.06-.94-2.06-.94L8.5 2.5l-.94 2.06-2.06.94zm10 10l.94 2.06.94-2.06 2.06-.94-2.06-.94-.94-2.06-.94 2.06-2.06.94z\"/><path d=\"M17.41 7.96l-1.37-1.37c-.4-.4-.92-.59-1.43-.59-.52 0-1.04.2-1.43.59L10.3 9.45l-7.72 7.72c-.78.78-.78 2.05 0 2.83L4 21.41c.39.39.9.59 1.41.59.51 0 1.02-.2 1.41-.59l7.78-7.78 2.81-2.81c.8-.78.8-2.07 0-2.86zM5.41 20L4 18.59l7.72-7.72 1.47 1.35L5.41 20z\"/>\n",
              "  </svg>\n",
              "      </button>\n",
              "      \n",
              "  <style>\n",
              "    .colab-df-container {\n",
              "      display:flex;\n",
              "      flex-wrap:wrap;\n",
              "      gap: 12px;\n",
              "    }\n",
              "\n",
              "    .colab-df-convert {\n",
              "      background-color: #E8F0FE;\n",
              "      border: none;\n",
              "      border-radius: 50%;\n",
              "      cursor: pointer;\n",
              "      display: none;\n",
              "      fill: #1967D2;\n",
              "      height: 32px;\n",
              "      padding: 0 0 0 0;\n",
              "      width: 32px;\n",
              "    }\n",
              "\n",
              "    .colab-df-convert:hover {\n",
              "      background-color: #E2EBFA;\n",
              "      box-shadow: 0px 1px 2px rgba(60, 64, 67, 0.3), 0px 1px 3px 1px rgba(60, 64, 67, 0.15);\n",
              "      fill: #174EA6;\n",
              "    }\n",
              "\n",
              "    [theme=dark] .colab-df-convert {\n",
              "      background-color: #3B4455;\n",
              "      fill: #D2E3FC;\n",
              "    }\n",
              "\n",
              "    [theme=dark] .colab-df-convert:hover {\n",
              "      background-color: #434B5C;\n",
              "      box-shadow: 0px 1px 3px 1px rgba(0, 0, 0, 0.15);\n",
              "      filter: drop-shadow(0px 1px 2px rgba(0, 0, 0, 0.3));\n",
              "      fill: #FFFFFF;\n",
              "    }\n",
              "  </style>\n",
              "\n",
              "      <script>\n",
              "        const buttonEl =\n",
              "          document.querySelector('#df-18da5127-d6f8-4bf5-83d5-e38d63888607 button.colab-df-convert');\n",
              "        buttonEl.style.display =\n",
              "          google.colab.kernel.accessAllowed ? 'block' : 'none';\n",
              "\n",
              "        async function convertToInteractive(key) {\n",
              "          const element = document.querySelector('#df-18da5127-d6f8-4bf5-83d5-e38d63888607');\n",
              "          const dataTable =\n",
              "            await google.colab.kernel.invokeFunction('convertToInteractive',\n",
              "                                                     [key], {});\n",
              "          if (!dataTable) return;\n",
              "\n",
              "          const docLinkHtml = 'Like what you see? Visit the ' +\n",
              "            '<a target=\"_blank\" href=https://colab.research.google.com/notebooks/data_table.ipynb>data table notebook</a>'\n",
              "            + ' to learn more about interactive tables.';\n",
              "          element.innerHTML = '';\n",
              "          dataTable['output_type'] = 'display_data';\n",
              "          await google.colab.output.renderOutput(dataTable, element);\n",
              "          const docLink = document.createElement('div');\n",
              "          docLink.innerHTML = docLinkHtml;\n",
              "          element.appendChild(docLink);\n",
              "        }\n",
              "      </script>\n",
              "    </div>\n",
              "  </div>\n",
              "  "
            ]
          },
          "metadata": {},
          "execution_count": 10
        }
      ]
    },
    {
      "cell_type": "markdown",
      "source": [
        "## Brief Description of Data\n",
        "\n",
        "The data outlines features that contribute to a series of diseases. In this case they are heart disease, stroke and type 2 diabetes. \n",
        "\n",
        "The columns make up the characteristics of the individuals including age, marital status, bmi and what not. "
      ],
      "metadata": {
        "id": "T-u4JGqDBHrB"
      }
    },
    {
      "cell_type": "markdown",
      "source": [
        "## What Is The Target?\n",
        "\n",
        "* The target will be the metabolicsyndrome column"
      ],
      "metadata": {
        "id": "zOcXUguIBLDZ"
      }
    },
    {
      "cell_type": "markdown",
      "source": [
        "# What Does One Row Represent?\n",
        "\n",
        "1.   seqn - Acts as ID \n",
        "2.   age - numeric value for the age of the individual\n",
        "3. sex - gender\n",
        "4. martial - what is the marital status\n",
        "5. income - how much an individual makes a month\n",
        "6. race - ethnicity\n",
        "7. waistcirc - size of the individuals waist\n",
        "8. bmi - dated way to measure body fat percentage\n",
        "9. albuminuria - sign of kidnet disease\n",
        "10. uralbcr - need to do more research\n",
        "11. uricacid - percentage of broken down substances\n",
        "12. bloodglucose - blood test to screen for sugar\n",
        "13. hdl - \"good\" cholesterol\n",
        "14. triglycerides - type of fat lipid\n",
        "15. metabolicsyndrome - cluster of conditions that occur together, increaseing risk of heart disease, stoke, and type 2 diabetes"
      ],
      "metadata": {
        "id": "GIObwUIqBNS3"
      }
    },
    {
      "cell_type": "markdown",
      "source": [
        "# How Many Features Does the Data Have?"
      ],
      "metadata": {
        "id": "VIHuqzWUBQU_"
      }
    },
    {
      "cell_type": "code",
      "source": [
        "df.info()"
      ],
      "metadata": {
        "colab": {
          "base_uri": "https://localhost:8080/"
        },
        "id": "Zc5giv2jN1DR",
        "outputId": "2aacf9d0-cb9f-4c98-9d01-7b23d66d29ee"
      },
      "execution_count": 34,
      "outputs": [
        {
          "output_type": "stream",
          "name": "stdout",
          "text": [
            "<class 'pandas.core.frame.DataFrame'>\n",
            "RangeIndex: 2401 entries, 0 to 2400\n",
            "Data columns (total 15 columns):\n",
            " #   Column             Non-Null Count  Dtype  \n",
            "---  ------             --------------  -----  \n",
            " 0   seqn               2401 non-null   int64  \n",
            " 1   age                2401 non-null   int64  \n",
            " 2   sex                2401 non-null   object \n",
            " 3   marital            2193 non-null   object \n",
            " 4   income             2284 non-null   float64\n",
            " 5   race               2401 non-null   object \n",
            " 6   waistcirc          2316 non-null   float64\n",
            " 7   bmi                2375 non-null   float64\n",
            " 8   albuminuria        2401 non-null   int64  \n",
            " 9   uralbcr            2401 non-null   float64\n",
            " 10  uricacid           2401 non-null   float64\n",
            " 11  bloodglucose       2401 non-null   int64  \n",
            " 12  hdl                2401 non-null   int64  \n",
            " 13  triglycerides      2401 non-null   int64  \n",
            " 14  metabolicsyndrome  2401 non-null   object \n",
            "dtypes: float64(5), int64(6), object(4)\n",
            "memory usage: 281.5+ KB\n"
          ]
        }
      ]
    },
    {
      "cell_type": "code",
      "source": [
        "print(f'The columns represent {df.shape[1]-1} features and 1 target variable.')"
      ],
      "metadata": {
        "id": "XZ2HI2gcBfbe",
        "colab": {
          "base_uri": "https://localhost:8080/"
        },
        "outputId": "d75378d8-0bd1-4416-a138-e095ff417bcb"
      },
      "execution_count": 20,
      "outputs": [
        {
          "output_type": "stream",
          "name": "stdout",
          "text": [
            "The columns represent 14 features and 1 target variable.\n"
          ]
        }
      ]
    },
    {
      "cell_type": "markdown",
      "source": [
        "# How Many Rows Are in The Dataset?"
      ],
      "metadata": {
        "id": "DrQ4O5KsBfg2"
      }
    },
    {
      "cell_type": "code",
      "source": [
        "print(f'There are {df.shape[0]} rows.')"
      ],
      "metadata": {
        "id": "Ow2gREjVBiMG",
        "colab": {
          "base_uri": "https://localhost:8080/"
        },
        "outputId": "a3c46db2-85d0-4dd8-b88c-fcc2276f2554"
      },
      "execution_count": 21,
      "outputs": [
        {
          "output_type": "stream",
          "name": "stdout",
          "text": [
            "There are 2401 rows.\n"
          ]
        }
      ]
    },
    {
      "cell_type": "code",
      "source": [
        "print(f'There are {df.duplicated().sum().sum()} duplicated rows.')"
      ],
      "metadata": {
        "colab": {
          "base_uri": "https://localhost:8080/"
        },
        "id": "TNbYAKUDNuIA",
        "outputId": "b89a3e56-365a-48d9-d706-e6cd413cf00d"
      },
      "execution_count": 33,
      "outputs": [
        {
          "output_type": "stream",
          "name": "stdout",
          "text": [
            "There are 0 duplicated rows.\n"
          ]
        }
      ]
    },
    {
      "cell_type": "markdown",
      "source": [
        "# What, if any, challenges do you foresee in cleaning, exploring, or modeling with the dataset?\n",
        "\n",
        "The primary challenge with this dataset will be resolving some of the missing values. Waistcirc and marital status are going to be very individualized so a 'missing' or 'unknown' value will need to be made. "
      ],
      "metadata": {
        "id": "entbHLvVBiQG"
      }
    },
    {
      "cell_type": "markdown",
      "source": [
        "# Second Choice: Spanish Wine Quality"
      ],
      "metadata": {
        "id": "7MKK5CHoB5p_"
      }
    },
    {
      "cell_type": "markdown",
      "source": [
        "## Source of Data\n",
        "\n",
        "* https://www.kaggle.com/datasets/fedesoriano/spanish-wine-quality-dataset?resource=download"
      ],
      "metadata": {
        "id": "Upfc-5EVB5p_"
      }
    },
    {
      "cell_type": "code",
      "source": [
        "filename2 = '/content/wines_SPA.csv'\n",
        "\n",
        "df1 = pd.read_csv(filename2)\n",
        "df1.head()"
      ],
      "metadata": {
        "colab": {
          "base_uri": "https://localhost:8080/",
          "height": 337
        },
        "id": "qXT_47LDB5qA",
        "outputId": "192f6d3a-31d6-464e-b994-65cb9aad1d8a"
      },
      "execution_count": 11,
      "outputs": [
        {
          "output_type": "execute_result",
          "data": {
            "text/plain": [
              "          winery           wine  year  rating  num_reviews country  \\\n",
              "0  Teso La Monja          Tinto  2013     4.9           58  Espana   \n",
              "1         Artadi  Vina El Pison  2018     4.9           31  Espana   \n",
              "2   Vega Sicilia          Unico  2009     4.8         1793  Espana   \n",
              "3   Vega Sicilia          Unico  1999     4.8         1705  Espana   \n",
              "4   Vega Sicilia          Unico  1996     4.8         1309  Espana   \n",
              "\n",
              "             region   price                  type  body  acidity  \n",
              "0              Toro  995.00              Toro Red   5.0      3.0  \n",
              "1    Vino de Espana  313.50           Tempranillo   4.0      2.0  \n",
              "2  Ribera del Duero  324.95  Ribera Del Duero Red   5.0      3.0  \n",
              "3  Ribera del Duero  692.96  Ribera Del Duero Red   5.0      3.0  \n",
              "4  Ribera del Duero  778.06  Ribera Del Duero Red   5.0      3.0  "
            ],
            "text/html": [
              "\n",
              "  <div id=\"df-cbc7c500-cc52-48a1-9c59-a37fe523ba3b\">\n",
              "    <div class=\"colab-df-container\">\n",
              "      <div>\n",
              "<style scoped>\n",
              "    .dataframe tbody tr th:only-of-type {\n",
              "        vertical-align: middle;\n",
              "    }\n",
              "\n",
              "    .dataframe tbody tr th {\n",
              "        vertical-align: top;\n",
              "    }\n",
              "\n",
              "    .dataframe thead th {\n",
              "        text-align: right;\n",
              "    }\n",
              "</style>\n",
              "<table border=\"1\" class=\"dataframe\">\n",
              "  <thead>\n",
              "    <tr style=\"text-align: right;\">\n",
              "      <th></th>\n",
              "      <th>winery</th>\n",
              "      <th>wine</th>\n",
              "      <th>year</th>\n",
              "      <th>rating</th>\n",
              "      <th>num_reviews</th>\n",
              "      <th>country</th>\n",
              "      <th>region</th>\n",
              "      <th>price</th>\n",
              "      <th>type</th>\n",
              "      <th>body</th>\n",
              "      <th>acidity</th>\n",
              "    </tr>\n",
              "  </thead>\n",
              "  <tbody>\n",
              "    <tr>\n",
              "      <th>0</th>\n",
              "      <td>Teso La Monja</td>\n",
              "      <td>Tinto</td>\n",
              "      <td>2013</td>\n",
              "      <td>4.9</td>\n",
              "      <td>58</td>\n",
              "      <td>Espana</td>\n",
              "      <td>Toro</td>\n",
              "      <td>995.00</td>\n",
              "      <td>Toro Red</td>\n",
              "      <td>5.0</td>\n",
              "      <td>3.0</td>\n",
              "    </tr>\n",
              "    <tr>\n",
              "      <th>1</th>\n",
              "      <td>Artadi</td>\n",
              "      <td>Vina El Pison</td>\n",
              "      <td>2018</td>\n",
              "      <td>4.9</td>\n",
              "      <td>31</td>\n",
              "      <td>Espana</td>\n",
              "      <td>Vino de Espana</td>\n",
              "      <td>313.50</td>\n",
              "      <td>Tempranillo</td>\n",
              "      <td>4.0</td>\n",
              "      <td>2.0</td>\n",
              "    </tr>\n",
              "    <tr>\n",
              "      <th>2</th>\n",
              "      <td>Vega Sicilia</td>\n",
              "      <td>Unico</td>\n",
              "      <td>2009</td>\n",
              "      <td>4.8</td>\n",
              "      <td>1793</td>\n",
              "      <td>Espana</td>\n",
              "      <td>Ribera del Duero</td>\n",
              "      <td>324.95</td>\n",
              "      <td>Ribera Del Duero Red</td>\n",
              "      <td>5.0</td>\n",
              "      <td>3.0</td>\n",
              "    </tr>\n",
              "    <tr>\n",
              "      <th>3</th>\n",
              "      <td>Vega Sicilia</td>\n",
              "      <td>Unico</td>\n",
              "      <td>1999</td>\n",
              "      <td>4.8</td>\n",
              "      <td>1705</td>\n",
              "      <td>Espana</td>\n",
              "      <td>Ribera del Duero</td>\n",
              "      <td>692.96</td>\n",
              "      <td>Ribera Del Duero Red</td>\n",
              "      <td>5.0</td>\n",
              "      <td>3.0</td>\n",
              "    </tr>\n",
              "    <tr>\n",
              "      <th>4</th>\n",
              "      <td>Vega Sicilia</td>\n",
              "      <td>Unico</td>\n",
              "      <td>1996</td>\n",
              "      <td>4.8</td>\n",
              "      <td>1309</td>\n",
              "      <td>Espana</td>\n",
              "      <td>Ribera del Duero</td>\n",
              "      <td>778.06</td>\n",
              "      <td>Ribera Del Duero Red</td>\n",
              "      <td>5.0</td>\n",
              "      <td>3.0</td>\n",
              "    </tr>\n",
              "  </tbody>\n",
              "</table>\n",
              "</div>\n",
              "      <button class=\"colab-df-convert\" onclick=\"convertToInteractive('df-cbc7c500-cc52-48a1-9c59-a37fe523ba3b')\"\n",
              "              title=\"Convert this dataframe to an interactive table.\"\n",
              "              style=\"display:none;\">\n",
              "        \n",
              "  <svg xmlns=\"http://www.w3.org/2000/svg\" height=\"24px\"viewBox=\"0 0 24 24\"\n",
              "       width=\"24px\">\n",
              "    <path d=\"M0 0h24v24H0V0z\" fill=\"none\"/>\n",
              "    <path d=\"M18.56 5.44l.94 2.06.94-2.06 2.06-.94-2.06-.94-.94-2.06-.94 2.06-2.06.94zm-11 1L8.5 8.5l.94-2.06 2.06-.94-2.06-.94L8.5 2.5l-.94 2.06-2.06.94zm10 10l.94 2.06.94-2.06 2.06-.94-2.06-.94-.94-2.06-.94 2.06-2.06.94z\"/><path d=\"M17.41 7.96l-1.37-1.37c-.4-.4-.92-.59-1.43-.59-.52 0-1.04.2-1.43.59L10.3 9.45l-7.72 7.72c-.78.78-.78 2.05 0 2.83L4 21.41c.39.39.9.59 1.41.59.51 0 1.02-.2 1.41-.59l7.78-7.78 2.81-2.81c.8-.78.8-2.07 0-2.86zM5.41 20L4 18.59l7.72-7.72 1.47 1.35L5.41 20z\"/>\n",
              "  </svg>\n",
              "      </button>\n",
              "      \n",
              "  <style>\n",
              "    .colab-df-container {\n",
              "      display:flex;\n",
              "      flex-wrap:wrap;\n",
              "      gap: 12px;\n",
              "    }\n",
              "\n",
              "    .colab-df-convert {\n",
              "      background-color: #E8F0FE;\n",
              "      border: none;\n",
              "      border-radius: 50%;\n",
              "      cursor: pointer;\n",
              "      display: none;\n",
              "      fill: #1967D2;\n",
              "      height: 32px;\n",
              "      padding: 0 0 0 0;\n",
              "      width: 32px;\n",
              "    }\n",
              "\n",
              "    .colab-df-convert:hover {\n",
              "      background-color: #E2EBFA;\n",
              "      box-shadow: 0px 1px 2px rgba(60, 64, 67, 0.3), 0px 1px 3px 1px rgba(60, 64, 67, 0.15);\n",
              "      fill: #174EA6;\n",
              "    }\n",
              "\n",
              "    [theme=dark] .colab-df-convert {\n",
              "      background-color: #3B4455;\n",
              "      fill: #D2E3FC;\n",
              "    }\n",
              "\n",
              "    [theme=dark] .colab-df-convert:hover {\n",
              "      background-color: #434B5C;\n",
              "      box-shadow: 0px 1px 3px 1px rgba(0, 0, 0, 0.15);\n",
              "      filter: drop-shadow(0px 1px 2px rgba(0, 0, 0, 0.3));\n",
              "      fill: #FFFFFF;\n",
              "    }\n",
              "  </style>\n",
              "\n",
              "      <script>\n",
              "        const buttonEl =\n",
              "          document.querySelector('#df-cbc7c500-cc52-48a1-9c59-a37fe523ba3b button.colab-df-convert');\n",
              "        buttonEl.style.display =\n",
              "          google.colab.kernel.accessAllowed ? 'block' : 'none';\n",
              "\n",
              "        async function convertToInteractive(key) {\n",
              "          const element = document.querySelector('#df-cbc7c500-cc52-48a1-9c59-a37fe523ba3b');\n",
              "          const dataTable =\n",
              "            await google.colab.kernel.invokeFunction('convertToInteractive',\n",
              "                                                     [key], {});\n",
              "          if (!dataTable) return;\n",
              "\n",
              "          const docLinkHtml = 'Like what you see? Visit the ' +\n",
              "            '<a target=\"_blank\" href=https://colab.research.google.com/notebooks/data_table.ipynb>data table notebook</a>'\n",
              "            + ' to learn more about interactive tables.';\n",
              "          element.innerHTML = '';\n",
              "          dataTable['output_type'] = 'display_data';\n",
              "          await google.colab.output.renderOutput(dataTable, element);\n",
              "          const docLink = document.createElement('div');\n",
              "          docLink.innerHTML = docLinkHtml;\n",
              "          element.appendChild(docLink);\n",
              "        }\n",
              "      </script>\n",
              "    </div>\n",
              "  </div>\n",
              "  "
            ]
          },
          "metadata": {},
          "execution_count": 11
        }
      ]
    },
    {
      "cell_type": "markdown",
      "source": [
        "## Brief Description of Data\n",
        "\n",
        "An extensive list of wines from Spain with a variety of featues detail where the wine was made, what type of wine it is, and the cost of said wine. "
      ],
      "metadata": {
        "id": "EmFxkdyKB5qA"
      }
    },
    {
      "cell_type": "markdown",
      "source": [
        "## What Is The Target?\n",
        "\n",
        "Body"
      ],
      "metadata": {
        "id": "u0lJuz0XB5qA"
      }
    },
    {
      "cell_type": "markdown",
      "source": [
        "# What Does One Row Represent?\n",
        "\n",
        "1. winery: Winery name\n",
        "2. wine: Name of the wine\n",
        "3. year: Year in which the grapes were harvested\n",
        "4. rating: Average rating given to the wine by the users [from 1-5]\n",
        "5. num_reviews: Number of users that reviewed the wine\n",
        "6. country: Country of origin [Spain]\n",
        "7. region: Region of the wine\n",
        "8. price: Price in euros [€]\n",
        "9. type: Wine variety\n",
        "10. body: Body score, defined as the richness and weight of the wine in your mouth [from 1-5]\n",
        "11. acidity: Acidity score, defined as wine's “pucker” or tartness; it's what makes a wine refreshing and your tongue salivate and want another sip [from 1-5]\n",
        "\n"
      ],
      "metadata": {
        "id": "l2bU1Q2KB5qA"
      }
    },
    {
      "cell_type": "markdown",
      "source": [
        "# How Many Features Does the Data Have?"
      ],
      "metadata": {
        "id": "toq4j7EKB5qA"
      }
    },
    {
      "cell_type": "code",
      "source": [
        "df1.info()"
      ],
      "metadata": {
        "colab": {
          "base_uri": "https://localhost:8080/"
        },
        "id": "vr8n5LI8NkjH",
        "outputId": "88c9d8f8-dac6-474d-b828-cb87224a9250"
      },
      "execution_count": 31,
      "outputs": [
        {
          "output_type": "stream",
          "name": "stdout",
          "text": [
            "<class 'pandas.core.frame.DataFrame'>\n",
            "RangeIndex: 7500 entries, 0 to 7499\n",
            "Data columns (total 11 columns):\n",
            " #   Column       Non-Null Count  Dtype  \n",
            "---  ------       --------------  -----  \n",
            " 0   winery       7500 non-null   object \n",
            " 1   wine         7500 non-null   object \n",
            " 2   year         7498 non-null   object \n",
            " 3   rating       7500 non-null   float64\n",
            " 4   num_reviews  7500 non-null   int64  \n",
            " 5   country      7500 non-null   object \n",
            " 6   region       7500 non-null   object \n",
            " 7   price        7500 non-null   float64\n",
            " 8   type         6955 non-null   object \n",
            " 9   body         6331 non-null   float64\n",
            " 10  acidity      6331 non-null   float64\n",
            "dtypes: float64(4), int64(1), object(6)\n",
            "memory usage: 644.7+ KB\n"
          ]
        }
      ]
    },
    {
      "cell_type": "code",
      "source": [
        "print(f'The columns represent {df1.shape[1]-1} features and 1 target variable.')"
      ],
      "metadata": {
        "id": "pDiREbNkB5qA",
        "colab": {
          "base_uri": "https://localhost:8080/"
        },
        "outputId": "cc771012-1b68-4eba-a977-554ea8b90a6f"
      },
      "execution_count": 24,
      "outputs": [
        {
          "output_type": "stream",
          "name": "stdout",
          "text": [
            "The columns represent 10 features and 1 target variable.\n"
          ]
        }
      ]
    },
    {
      "cell_type": "markdown",
      "source": [
        "# How Many Rows Are in The Dataset?"
      ],
      "metadata": {
        "id": "Sr_PFpZ1B5qA"
      }
    },
    {
      "cell_type": "code",
      "source": [
        "print(f'There are {df1.shape[0]} rows.')"
      ],
      "metadata": {
        "id": "ZMaIX123B5qA",
        "colab": {
          "base_uri": "https://localhost:8080/"
        },
        "outputId": "1215ff99-0c32-4224-dd3e-f02fc95e9356"
      },
      "execution_count": 22,
      "outputs": [
        {
          "output_type": "stream",
          "name": "stdout",
          "text": [
            "There are 7500 rows.\n"
          ]
        }
      ]
    },
    {
      "cell_type": "code",
      "source": [
        "print(f'There are {df1.duplicated().sum().sum()} duplicated rows.')"
      ],
      "metadata": {
        "colab": {
          "base_uri": "https://localhost:8080/"
        },
        "id": "XpEvpZ0HNNNy",
        "outputId": "03b1fb44-4aa4-49f6-89a9-c974a09151e7"
      },
      "execution_count": 30,
      "outputs": [
        {
          "output_type": "stream",
          "name": "stdout",
          "text": [
            "There are 5452 duplicated rows.\n"
          ]
        }
      ]
    },
    {
      "cell_type": "markdown",
      "source": [
        "# What, if any, challenges do you foresee in cleaning, exploring, or modeling with the dataset?\n",
        "\n",
        "The primary challenge with this dataset will be resolving some of the missing values. 'year', body, type and acidity are going to be very individualized so a 'missing' or 'unknown' value will need to be made.\n",
        "\n",
        "Creating a model to predict the acidity of a wine based on the type of wine that was made. "
      ],
      "metadata": {
        "id": "IJE76LE3B5qA"
      }
    }
  ]
}